{
 "cells": [
  {
   "cell_type": "markdown",
   "metadata": {},
   "source": [
    "# Training chemCPA"
   ]
  },
  {
   "cell_type": "markdown",
   "metadata": {},
   "source": [
    "Either use the provided env.yml, or if using pip install the following:\n",
    "\n",
    "pip install pandas scanpy torch anndata numpy torchmetrics seaborn matplotlib wandb lightning rdkit hydra-core plotnine pyarrow ipywidgets\n",
    "\n"
   ]
  },
  {
   "cell_type": "markdown",
   "metadata": {},
   "source": [
    "## Imports"
   ]
  },
  {
   "cell_type": "code",
   "execution_count": 12,
   "metadata": {},
   "outputs": [
    {
     "name": "stdout",
     "output_type": "stream",
     "text": [
      "The autoreload extension is already loaded. To reload it, use:\n",
      "  %reload_ext autoreload\n"
     ]
    }
   ],
   "source": [
    "# optional autoreload\n",
    "%load_ext autoreload\n",
    "%autoreload 2\n"
   ]
  },
  {
   "cell_type": "code",
   "execution_count": 13,
   "metadata": {},
   "outputs": [
    {
     "name": "stderr",
     "output_type": "stream",
     "text": [
      "\u001b[34m\u001b[1mwandb\u001b[0m: \u001b[33mWARNING\u001b[0m Calling wandb.login() after wandb.init() has no effect.\n"
     ]
    },
    {
     "data": {
      "text/plain": [
       "True"
      ]
     },
     "execution_count": 13,
     "metadata": {},
     "output_type": "execute_result"
    }
   ],
   "source": [
    "from pathlib import Path\n",
    "\n",
    "import lightning as L\n",
    "import pandas as pd\n",
    "import scanpy as sc\n",
    "import wandb\n",
    "from hydra import compose, initialize\n",
    "from lightning.pytorch import seed_everything\n",
    "from lightning.pytorch.callbacks.early_stopping import EarlyStopping\n",
    "from omegaconf import OmegaConf\n",
    "from plotnine import aes, geom_boxplot, ggplot, scale_y_continuous\n",
    "from pytorch_lightning.loggers import WandbLogger\n",
    "\n",
    "from chemCPA.data import DataModule\n",
    "from chemCPA.model import ComPert\n",
    "from chemCPA.train import evaluate_logfold_r2, evaluate_r2, evaluate_r2_sc\n",
    "\n",
    "wandb.login()"
   ]
  },
  {
   "cell_type": "markdown",
   "metadata": {},
   "source": [
    "## Load configs"
   ]
  },
  {
   "cell_type": "markdown",
   "metadata": {},
   "source": [
    "Before you load the config, you should probably double check that you are happy with the paths where the datasets that will be used are located. \n",
    "These are configured <a href=\"../../experiments/hydra_config/dataset/sciplex_lincs.yaml\">here</a>.\n",
    "You may also want to change the model output path <a href=\"../../experiments/hydra_config/model/defaults.yaml\">here</a>\n",
    "\n"
   ]
  },
  {
   "cell_type": "code",
   "execution_count": 3,
   "metadata": {},
   "outputs": [],
   "source": [
    "### Load config\n",
    "\n",
    "with initialize(version_base=None, config_path=\"../../experiments/hydra_config\"):\n",
    "    config = compose(config_name=\"defaults\", overrides=[])\n",
    "    \n"
   ]
  },
  {
   "cell_type": "markdown",
   "metadata": {},
   "source": [
    "## (Down)Load data"
   ]
  },
  {
   "cell_type": "code",
   "execution_count": 4,
   "metadata": {},
   "outputs": [
    {
     "name": "stdout",
     "output_type": "stream",
     "text": [
      "Dataset path: /root/chemCPA_fork/sciplex_complete_middle_subset_lincs_genes.h5ad\n",
      "Embeddings path: /root/chemCPA_fork/rdkit2D_embedding_lincs_trapnell.parquet\n"
     ]
    }
   ],
   "source": [
    "dataset_path = config.dataset.data_params.dataset_path\n",
    "dataset_dir = Path(dataset_path).parent\n",
    "\n",
    "print(f\"Dataset path: {config.dataset.data_params.dataset_path}\")\n",
    "print(f\"Embeddings path: {config.dataset.data_params.drugs_embeddings}\")\n",
    "\n",
    "\n"
   ]
  },
  {
   "cell_type": "markdown",
   "metadata": {},
   "source": [
    "The following checks that the files exist at the expected paths, if they don't the files are downloaded. Feel free to run this cell multiple times.\n"
   ]
  },
  {
   "cell_type": "code",
   "execution_count": 5,
   "metadata": {},
   "outputs": [
    {
     "name": "stdout",
     "output_type": "stream",
     "text": [
      "dataset_path: /root/chemCPA_fork/sciplex_complete_middle_subset_lincs_genes.h5ad\n",
      "drug_key: condition\n",
      "dose_key: dose\n",
      "knockout_key: null\n",
      "covariate_keys:\n",
      "- cell_type\n",
      "smiles_key: SMILES\n",
      "pert_category: cov_drug_dose_name\n",
      "split_key: split_ood_multi_task\n",
      "degs_key: lincs_DEGs\n",
      "drugs_embeddings: /root/chemCPA_fork/rdkit2D_embedding_lincs_trapnell.parquet\n",
      "knockouts_embeddings: null\n",
      "return_dataset: true\n",
      "\n"
     ]
    }
   ],
   "source": [
    "import sys\n",
    "sys.path.append('../../data')\n",
    "\n",
    "from datasets.datasets import sciplex_complete_middle_subset_lincs_genes, rdkit2D_embedding_lincs_trapnell\n",
    "\n",
    "sciplex_complete_middle_subset_lincs_genes(config.dataset.data_params.dataset_path)\n",
    "rdkit2D_embedding_lincs_trapnell(config.dataset.data_params.drugs_embeddings)\n",
    "print(OmegaConf.to_yaml(config.dataset.data_params))\n",
    "assert (Path(config.dataset.data_params.dataset_path)).exists(), \"Config `dataset_path` is not correct!\"\n",
    "assert (Path(config.dataset.data_params.drugs_embeddings)).exists(), \"Config `drugs_embeddings` is not correct\""
   ]
  },
  {
   "cell_type": "markdown",
   "metadata": {},
   "source": [
    "## Load data"
   ]
  },
  {
   "cell_type": "code",
   "execution_count": 6,
   "metadata": {},
   "outputs": [
    {
     "name": "stdout",
     "output_type": "stream",
     "text": [
      "[3]\n",
      "188\n",
      "0\n"
     ]
    }
   ],
   "source": [
    "### Load data module\n",
    "\n",
    "dm = DataModule(\n",
    "    batch_size=config.model[\"hparams\"][\"batch_size\"],\n",
    "    full_eval_during_train=config.train[\"full_eval_during_train\"],\n",
    "    num_workers=config.train[\"num_workers\"],\n",
    "    # num_workers=19,\n",
    "    **config.dataset[\"data_params\"]\n",
    ")\n",
    "\n",
    "print(dm.datasets['training'].num_covariates)\n",
    "print(dm.datasets['training'].num_drugs)\n",
    "print(dm.datasets['training'].num_knockouts)"
   ]
  },
  {
   "cell_type": "markdown",
   "metadata": {},
   "source": [
    "## Initialize Model"
   ]
  },
  {
   "cell_type": "code",
   "execution_count": 14,
   "metadata": {},
   "outputs": [],
   "source": [
    "###  Initialise the model\n",
    "\n",
    "\n",
    "data_train = dm.datasets['training']\n",
    "\n",
    "model = ComPert(\n",
    "    data_train.num_genes,\n",
    "    data_train.num_drugs,\n",
    "    data_train.num_knockouts,\n",
    "    data_train.num_covariates,\n",
    "    config.model.hparams,\n",
    "    config.train,\n",
    "    config.test,\n",
    "    **config.model.additional_params,\n",
    "    drug_embedding_dimension=data_train.drug_embedding_dimension,\n",
    "    knockout_embedding_dimension=data_train.knockout_embedding_dimension,\n",
    ")\n"
   ]
  },
  {
   "cell_type": "markdown",
   "metadata": {},
   "source": [
    "## Train"
   ]
  },
  {
   "cell_type": "code",
   "execution_count": 15,
   "metadata": {},
   "outputs": [
    {
     "data": {
      "text/plain": [
       "'/root/chemCPA_fork/model_outputs'"
      ]
     },
     "execution_count": 15,
     "metadata": {},
     "output_type": "execute_result"
    }
   ],
   "source": [
    "config.model[\"save_dir\"]\n"
   ]
  },
  {
   "cell_type": "code",
   "execution_count": 16,
   "metadata": {},
   "outputs": [
    {
     "name": "stderr",
     "output_type": "stream",
     "text": [
      "GPU available: True (cuda), used: True\n",
      "TPU available: False, using: 0 TPU cores\n",
      "IPU available: False, using: 0 IPUs\n",
      "HPU available: False, using: 0 HPUs\n"
     ]
    }
   ],
   "source": [
    "### Initialise the trainer\n",
    "\n",
    "project_str = f\"{config.model['model_type']}_{config.dataset['dataset_type']}\"\n",
    "wandb_logger = WandbLogger(project=project_str, save_dir=config.model[\"save_dir\"])\n",
    "\n",
    "\n",
    "inference_mode = (not config.train[\"run_eval_disentangle\"]) and (not config.test[\"run_eval_disentangle\"])\n",
    "early_stop_callback = EarlyStopping(\"average_r2_score\", patience=model.hparams.training_params[\"patience\"], mode=\"max\")\n",
    "\n",
    "trainer = L.Trainer(\n",
    "    logger=wandb_logger,\n",
    "    max_epochs=config.train[\"num_epochs\"],\n",
    "    max_time=config.train[\"max_time\"],\n",
    "    check_val_every_n_epoch=config.train[\"checkpoint_freq\"],\n",
    "    default_root_dir=config.model[\"save_dir\"],\n",
    "    # profiler=\"advanced\",\n",
    "    callbacks=[early_stop_callback],\n",
    "    inference_mode=inference_mode,\n",
    "    num_sanity_val_steps=0,\n",
    ")"
   ]
  },
  {
   "cell_type": "code",
   "execution_count": 18,
   "metadata": {},
   "outputs": [
    {
     "name": "stderr",
     "output_type": "stream",
     "text": [
      "LOCAL_RANK: 0 - CUDA_VISIBLE_DEVICES: [0]\n",
      "\n",
      "  | Name                   | Type            | Params\n",
      "-----------------------------------------------------------\n",
      "0 | loss_autoencoder       | GaussianNLLLoss | 0     \n",
      "1 | encoder                | MLP             | 259 K \n",
      "2 | decoder                | MLP             | 511 K \n",
      "3 | drug_embedding_encoder | MLP             | 644 K \n",
      "4 | loss_adversary_drugs   | CELoss          | 0     \n",
      "5 | dosers                 | MLP             | 50.9 K\n",
      "-----------------------------------------------------------\n",
      "1.5 M     Trainable params\n",
      "0         Non-trainable params\n",
      "1.5 M     Total params\n",
      "5.863     Total estimated model params size (MB)\n"
     ]
    },
    {
     "data": {
      "application/vnd.jupyter.widget-view+json": {
       "model_id": "34d19415c6264e53b2046cb9d88e4d4f",
       "version_major": 2,
       "version_minor": 0
      },
      "text/plain": [
       "Training: |          | 0/? [00:00<?, ?it/s]"
      ]
     },
     "metadata": {},
     "output_type": "display_data"
    }
   ],
   "source": [
    "trainer.fit(model, datamodule=dm)"
   ]
  },
  {
   "cell_type": "code",
   "execution_count": null,
   "metadata": {},
   "outputs": [],
   "source": []
  }
 ],
 "metadata": {
  "kernelspec": {
   "display_name": "Python 3 (ipykernel)",
   "language": "python",
   "name": "python3"
  },
  "language_info": {
   "codemirror_mode": {
    "name": "ipython",
    "version": 3
   },
   "file_extension": ".py",
   "mimetype": "text/x-python",
   "name": "python",
   "nbconvert_exporter": "python",
   "pygments_lexer": "ipython3",
   "version": "3.10.12"
  }
 },
 "nbformat": 4,
 "nbformat_minor": 4
}
