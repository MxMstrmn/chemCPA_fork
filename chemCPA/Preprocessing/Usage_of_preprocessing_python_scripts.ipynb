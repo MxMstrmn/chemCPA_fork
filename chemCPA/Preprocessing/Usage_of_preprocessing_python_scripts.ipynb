{
 "cells": [
  {
   "cell_type": "markdown",
   "id": "1ddac244",
   "metadata": {},
   "source": [
    "# Preprocessing usage"
   ]
  },
  {
   "cell_type": "code",
   "execution_count": null,
   "id": "893e71c7",
   "metadata": {},
   "outputs": [],
   "source": [
    "# If you set save_path "
   ]
  },
  {
   "cell_type": "code",
   "execution_count": null,
   "id": "5e836024",
   "metadata": {},
   "outputs": [],
   "source": [
    "path='/home/manu/chemCPA/chemCPA/anndatas'"
   ]
  },
  {
   "cell_type": "code",
   "execution_count": null,
   "id": "6676719f",
   "metadata": {},
   "outputs": [],
   "source": [
    "# Drug perturbation data sets"
   ]
  },
  {
   "cell_type": "code",
   "execution_count": null,
   "id": "87a1075c",
   "metadata": {},
   "outputs": [],
   "source": [
    "python preprocess_sciplex.py --load_path \"$path\" --save_path \"$path\""
   ]
  },
  {
   "cell_type": "code",
   "execution_count": null,
   "id": "46a453a3",
   "metadata": {},
   "outputs": [],
   "source": [
    "python preprocess_l1000.py --load_path \"$path\" --save_path \"$path\""
   ]
  },
  {
   "cell_type": "code",
   "execution_count": null,
   "id": "176732d3",
   "metadata": {},
   "outputs": [],
   "source": [
    "# Gene Knockout data sets"
   ]
  },
  {
   "cell_type": "code",
   "execution_count": null,
   "id": "65fa4fe3",
   "metadata": {},
   "outputs": [],
   "source": [
    "python preprocess_Norman.py --load_path \"$path\" --save_path \"$path\""
   ]
  },
  {
   "cell_type": "code",
   "execution_count": null,
   "id": "f9182ba5",
   "metadata": {},
   "outputs": [],
   "source": [
    "python preprocess_Replolgle_K562.py --load_path \"$path\" --save_path \"$path\""
   ]
  },
  {
   "cell_type": "code",
   "execution_count": null,
   "id": "3824e98c",
   "metadata": {},
   "outputs": [],
   "source": [
    "python preprocess_Replolgle_RPE1.py --load_path \"$path\" --save_path \"$path\""
   ]
  },
  {
   "cell_type": "code",
   "execution_count": null,
   "id": "d3450240",
   "metadata": {},
   "outputs": [],
   "source": []
  },
  {
   "cell_type": "code",
   "execution_count": null,
   "id": "9c47385f",
   "metadata": {},
   "outputs": [],
   "source": []
  },
  {
   "cell_type": "code",
   "execution_count": null,
   "id": "7ca84e94",
   "metadata": {},
   "outputs": [],
   "source": []
  },
  {
   "cell_type": "code",
   "execution_count": null,
   "id": "fafef2f9",
   "metadata": {},
   "outputs": [],
   "source": []
  }
 ],
 "metadata": {
  "kernelspec": {
   "display_name": "g",
   "language": "python",
   "name": "g"
  },
  "language_info": {
   "codemirror_mode": {
    "name": "ipython",
    "version": 3
   },
   "file_extension": ".py",
   "mimetype": "text/x-python",
   "name": "python",
   "nbconvert_exporter": "python",
   "pygments_lexer": "ipython3",
   "version": "3.10.9"
  }
 },
 "nbformat": 4,
 "nbformat_minor": 5
}
