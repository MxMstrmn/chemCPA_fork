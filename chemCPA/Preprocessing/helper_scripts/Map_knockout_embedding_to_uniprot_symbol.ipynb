{
 "cells": [
  {
   "cell_type": "code",
   "execution_count": 1,
   "id": "8ea146f5",
   "metadata": {},
   "outputs": [],
   "source": [
    "# Uniprot gene name mapper"
   ]
  },
  {
   "cell_type": "code",
   "execution_count": 2,
   "id": "f8c7b99c",
   "metadata": {},
   "outputs": [],
   "source": [
    "# Sometimes people use the not-standart gene names, e.g. ELMSAN1 should be MIDEAS.\n",
    "# I map everything to the first identifier of uniprot"
   ]
  },
  {
   "cell_type": "code",
   "execution_count": 8,
   "id": "30d46402",
   "metadata": {},
   "outputs": [],
   "source": [
    "import re\n",
    "def remove_non_alphanumeric(input_string):\n",
    "    return re.sub(r'[^a-zA-Z0-9]', '', input_string)"
   ]
  },
  {
   "cell_type": "code",
   "execution_count": 4,
   "id": "d8c50672",
   "metadata": {},
   "outputs": [
    {
     "name": "stderr",
     "output_type": "stream",
     "text": [
      "/tmp/ipykernel_21216/1570694649.py:1: DeprecationWarning: \n",
      "Pyarrow will become a required dependency of pandas in the next major release of pandas (pandas 3.0),\n",
      "(to allow more performant data types, such as the Arrow string type, and better interoperability with other libraries)\n",
      "but was not found to be installed on your system.\n",
      "If this would cause problems for you,\n",
      "please provide us feedback at https://github.com/pandas-dev/pandas/issues/54466\n",
      "        \n",
      "  import pandas as pd\n"
     ]
    }
   ],
   "source": [
    "import pandas as pd\n",
    "import numpy as np\n",
    "import torch\n",
    "import os\n",
    "current_directory = os.getcwd()\n",
    "data_path='/'+os.path.join(*current_directory.split('/')[:-2])+'/non_anndata_data'"
   ]
  },
  {
   "cell_type": "code",
   "execution_count": null,
   "id": "de46b1d2",
   "metadata": {
    "scrolled": true
   },
   "outputs": [],
   "source": []
  },
  {
   "cell_type": "code",
   "execution_count": 5,
   "id": "3ef9041d",
   "metadata": {},
   "outputs": [],
   "source": [
    "# Maps for genes with several symbol the alternative symbols to the main gene symbol\n",
    "df=pd.read_csv(f'{data_path}/uniprotkb_AND_model_organism_9606_2024_02_19.tsv', sep='\\t')\n",
    "gene_names=list(df['Gene Names'])\n",
    "Dict={}\n",
    "for g in gene_names:\n",
    "    if ' ' in str(g):\n",
    "        target_gene=g.split(' ')[0]\n",
    "        for gs in g.split(' ')[1:]:\n",
    "            Dict[gs]=target_gene\n",
    "np.save(f'{data_path}/Gene_names_dict.npy', Dict)"
   ]
  },
  {
   "cell_type": "code",
   "execution_count": null,
   "id": "e9f6745c",
   "metadata": {},
   "outputs": [],
   "source": []
  },
  {
   "cell_type": "code",
   "execution_count": null,
   "id": "f827e5df",
   "metadata": {},
   "outputs": [],
   "source": []
  },
  {
   "cell_type": "code",
   "execution_count": 6,
   "id": "f7ba45e8",
   "metadata": {},
   "outputs": [],
   "source": [
    "Gene_names_dict= np.load(f'{data_path}/Gene_names_dict.npy', allow_pickle=True).item()\n",
    "Gene_names_dict_keys=list(Gene_names_dict.keys())"
   ]
  },
  {
   "cell_type": "code",
   "execution_count": 10,
   "id": "dde5ed82",
   "metadata": {
    "scrolled": true
   },
   "outputs": [],
   "source": [
    "embeddings=torch.load(f'{data_path}/gene_vector_averages.pt')\n",
    "embeddings['control']=torch.zeros_like(list(embeddings.values())[0])\n",
    "embedding_genes=list(embeddings.keys())\n",
    "for gene in embedding_genes:\n",
    "    if gene in Gene_names_dict_keys:\n",
    "        embeddings[Gene_names_dict[gene]]=embeddings[gene]\n",
    "genes=list(embeddings.keys())\n",
    "for gene in genes:\n",
    "    embeddings[remove_non_alphanumeric(gene)]=embeddings[gene]\n",
    "torch.save(embeddings, f'{data_path}/gene_name_mapped_embedding.pt')"
   ]
  },
  {
   "cell_type": "code",
   "execution_count": null,
   "id": "74ded8d0",
   "metadata": {},
   "outputs": [],
   "source": []
  },
  {
   "cell_type": "code",
   "execution_count": 11,
   "id": "e42fc023",
   "metadata": {},
   "outputs": [],
   "source": [
    "# And the same thing but now with all 0s, this is used for the baseline\n",
    "embeddings_zeros=embeddings\n",
    "for g in embeddings.keys():\n",
    "    embeddings[g]=torch.zeros_like(embeddings[g])\n",
    "torch.save(embeddings, f'{data_path}/gene_name_mapped_embedding_all_zero.pt')"
   ]
  },
  {
   "cell_type": "code",
   "execution_count": 52,
   "id": "e6b59c19",
   "metadata": {},
   "outputs": [],
   "source": []
  },
  {
   "cell_type": "code",
   "execution_count": 53,
   "id": "9d7e4fbb",
   "metadata": {},
   "outputs": [],
   "source": []
  },
  {
   "cell_type": "code",
   "execution_count": null,
   "id": "94e99639",
   "metadata": {},
   "outputs": [],
   "source": []
  },
  {
   "cell_type": "code",
   "execution_count": null,
   "id": "92d76efe",
   "metadata": {},
   "outputs": [],
   "source": []
  },
  {
   "cell_type": "code",
   "execution_count": null,
   "id": "fa590894",
   "metadata": {},
   "outputs": [],
   "source": []
  }
 ],
 "metadata": {
  "kernelspec": {
   "display_name": "biolord",
   "language": "python",
   "name": "biolord"
  },
  "language_info": {
   "codemirror_mode": {
    "name": "ipython",
    "version": 3
   },
   "file_extension": ".py",
   "mimetype": "text/x-python",
   "name": "python",
   "nbconvert_exporter": "python",
   "pygments_lexer": "ipython3",
   "version": "3.9.16"
  }
 },
 "nbformat": 4,
 "nbformat_minor": 5
}
