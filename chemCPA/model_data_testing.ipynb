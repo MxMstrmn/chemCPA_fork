{
 "cells": [
  {
   "cell_type": "markdown",
   "metadata": {},
   "source": [
    "# training and evaluating the CPA"
   ]
  },
  {
   "cell_type": "code",
   "execution_count": null,
   "metadata": {},
   "outputs": [],
   "source": [
    "import sys\n",
    "sys.path.append('..')\n",
    "\n",
    "import wandb\n",
    "wandb.login()\n",
    "\n",
    "from chemCPA.data import DataModule\n",
    "from chemCPA.model import ComPert\n",
    "import torch\n",
    "import numpy as np\n",
    "import time\n",
    "import yaml\n",
    "import lightning as L\n",
    "from lightning.pytorch import seed_everything\n",
    "from pytorch_lightning.loggers import WandbLogger\n",
    "from lightning.pytorch.callbacks.early_stopping import EarlyStopping"
   ]
  },
  {
   "cell_type": "markdown",
   "metadata": {},
   "source": [
    "## load configuration"
   ]
  },
  {
   "cell_type": "code",
   "execution_count": 2,
   "metadata": {},
   "outputs": [],
   "source": [
    "with open('../chemCPA//train_data/config_hparam.yaml') as file:\n",
    "    config_data = yaml.safe_load(file)\n",
    "\n",
    "#seed_everything()"
   ]
  },
  {
   "cell_type": "markdown",
   "metadata": {},
   "source": [
    "## initialize the dataset module"
   ]
  },
  {
   "cell_type": "code",
   "execution_count": 3,
   "metadata": {},
   "outputs": [],
   "source": [
    "dm = DataModule(config_data['model']['hparams']['batch_size'],\n",
    "                        config_data['model']['training_hparams']['full_eval_during_train'],\n",
    "                        **config_data['dataset']['data_params'])"
   ]
  },
  {
   "cell_type": "code",
   "execution_count": null,
   "metadata": {},
   "outputs": [],
   "source": [
    "print(len(dm.datasets['training']))\n",
    "print(len(dm.datasets['training_control']))\n",
    "print(len(dm.datasets['training_treated']))\n",
    "print(len(dm.datasets['test']))\n",
    "print(len(dm.datasets['test_control']))\n",
    "print(len(dm.datasets['test_treated']))\n",
    "print(len(dm.datasets['ood']))"
   ]
  },
  {
   "cell_type": "code",
   "execution_count": null,
   "metadata": {},
   "outputs": [],
   "source": [
    "print(dm.datasets['training'].num_covariates)\n",
    "print(dm.datasets['training'].num_drugs)\n",
    "print(dm.datasets['training'].num_knockouts)"
   ]
  },
  {
   "cell_type": "markdown",
   "metadata": {},
   "source": [
    "## initialize the model"
   ]
  },
  {
   "cell_type": "code",
   "execution_count": 6,
   "metadata": {},
   "outputs": [],
   "source": [
    "# initialize the model\n",
    "# the knockouts embeddings are initialized as random \n",
    "model = ComPert(\n",
    "    dm.datasets['training'].num_genes,\n",
    "    dm.datasets['training'].num_drugs,\n",
    "    dm.datasets['training'].num_knockouts,\n",
    "    dm.datasets['training'].num_covariates,\n",
    "    config_data['model']['hparams'],\n",
    "    config_data['model']['training_hparams'],\n",
    "    config_data['model']['test_hparams'],\n",
    "    **config_data['model']['additional_params'],\n",
    "    drug_embedding_dimension=dm.datasets['training'].drug_embedding_dimension,\n",
    "    knockout_embedding_dimension=dm.datasets['training'].knockout_embedding_dimension\n",
    "    )\n",
    "    "
   ]
  },
  {
   "cell_type": "markdown",
   "metadata": {},
   "source": [
    "## Initialize the trainer"
   ]
  },
  {
   "cell_type": "code",
   "execution_count": null,
   "metadata": {},
   "outputs": [],
   "source": [
    "early_stop_callback = EarlyStopping('average_r2_score', \n",
    "                                    patience=model.hparams.training_hparams['patience'], \n",
    "                                    mode='max')\n",
    "\n",
    "if (not model.hparams.training_hparams['run_eval_disentangle']) and (not model.hparams.test_hparams['run_eval_disentangle']):\n",
    "    trainer = L.Trainer(\n",
    "        logger=WandbLogger(log_model=\"all\"),\n",
    "        max_epochs=config_data['model']['training_hparams']['num_epochs'],\n",
    "        max_time=config_data['model']['training_hparams']['max_time'],\n",
    "        check_val_every_n_epoch= config_data['model']['training_hparams']['checkpoint_freq'],\n",
    "        default_root_dir=config_data['model']['training_hparams']['save_dir'],\n",
    "        profiler=\"advanced\",\n",
    "        callbacks=[early_stop_callback],\n",
    "        #inference_mode=False\n",
    "    )\n",
    "else: \n",
    "    trainer = L.Trainer(\n",
    "        logger=WandbLogger(log_model=\"all\"),\n",
    "        max_epochs=config_data['model']['training_hparams']['num_epochs'],\n",
    "        max_time=config_data['model']['training_hparams']['max_time'],\n",
    "        check_val_every_n_epoch= config_data['model']['training_hparams']['checkpoint_freq'],\n",
    "        default_root_dir=config_data['model']['training_hparams']['save_dir'],\n",
    "        profiler=\"advanced\",\n",
    "        callbacks=[early_stop_callback],\n",
    "        inference_mode=False\n",
    "    )"
   ]
  },
  {
   "cell_type": "markdown",
   "metadata": {},
   "source": [
    "## train the model"
   ]
  },
  {
   "cell_type": "code",
   "execution_count": null,
   "metadata": {},
   "outputs": [],
   "source": [
    "trainer.fit(model, datamodule=dm)"
   ]
  },
  {
   "cell_type": "markdown",
   "metadata": {},
   "source": [
    "## test the model"
   ]
  },
  {
   "cell_type": "code",
   "execution_count": null,
   "metadata": {},
   "outputs": [],
   "source": [
    "trainer.test(model, datamodule=dm)"
   ]
  },
  {
   "cell_type": "markdown",
   "metadata": {},
   "source": [
    "## reload the model from check point"
   ]
  },
  {
   "cell_type": "code",
   "execution_count": null,
   "metadata": {},
   "outputs": [],
   "source": [
    "#reload the model from check point\n",
    "#model = ComPert.load_from_checkpoint('lightning_logs/yznmw0w3/checkpoints/epoch=0-step=704.ckpt')"
   ]
  },
  {
   "cell_type": "code",
   "execution_count": null,
   "metadata": {},
   "outputs": [],
   "source": []
  },
  {
   "cell_type": "code",
   "execution_count": null,
   "metadata": {},
   "outputs": [],
   "source": []
  },
  {
   "cell_type": "code",
   "execution_count": null,
   "metadata": {},
   "outputs": [],
   "source": []
  },
  {
   "cell_type": "code",
   "execution_count": null,
   "metadata": {},
   "outputs": [],
   "source": []
  }
 ],
 "metadata": {
  "kernelspec": {
   "display_name": "sheet5",
   "language": "python",
   "name": "python3"
  },
  "language_info": {
   "codemirror_mode": {
    "name": "ipython",
    "version": 3
   },
   "file_extension": ".py",
   "mimetype": "text/x-python",
   "name": "python",
   "nbconvert_exporter": "python",
   "pygments_lexer": "ipython3",
   "version": "3.9.15"
  }
 },
 "nbformat": 4,
 "nbformat_minor": 2
}
